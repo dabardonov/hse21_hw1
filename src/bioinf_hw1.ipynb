{
 "cells": [
  {
   "cell_type": "code",
   "execution_count": 48,
   "metadata": {},
   "outputs": [],
   "source": [
    "import numpy as np"
   ]
  },
  {
   "cell_type": "code",
   "execution_count": 132,
   "metadata": {},
   "outputs": [
    {
     "name": "stdout",
     "output_type": "stream",
     "text": [
      "Всего контигов 5605, длина самого большого контига - 14282, общая длина контигов - 3911674.\n"
     ]
    }
   ],
   "source": [
    "s = [i.split('\\n')[:-1] for i in ''.join(open('/Users/Даниил/Desktop/Poil_contig.fa').readlines()).split('>')[1:]]\n",
    "answer = [len(''.join(i)) for i in [s[c][1:] for c in range(len(s))]]\n",
    "print(f'Всего контигов {len(answer)}, длина самого большого контига - {max(answer)}, общая длина контигов - {np.sum(answer)}.') "
   ]
  },
  {
   "cell_type": "code",
   "execution_count": 133,
   "metadata": {},
   "outputs": [
    {
     "name": "stdout",
     "output_type": "stream",
     "text": [
      "N50 для контигов = 1859.\n"
     ]
    }
   ],
   "source": [
    "answer.sort(reverse=True)\n",
    "i = 0\n",
    "ss = 0\n",
    "while ss < np.sum(answer) // 2:\n",
    "    ss += answer[i]\n",
    "    i += 1\n",
    "print(f'N50 для контигов = {answer[i]}.')"
   ]
  },
  {
   "cell_type": "code",
   "execution_count": 134,
   "metadata": {},
   "outputs": [
    {
     "name": "stdout",
     "output_type": "stream",
     "text": [
      "Всего скаффолдов 1047, длина самого большого скаффолда - 1407909, общая длина скаффолдов - 3872152.\n"
     ]
    }
   ],
   "source": [
    "s = [i.split('\\n')[:-1] for i in ''.join(open('/Users/Даниил/Desktop/Poil_scaffold.fa').readlines()).split('>')[1:]]\n",
    "answer2 = [len(''.join(i)) for i in [s[c][1:] for c in range(len(s))]]\n",
    "print(f'Всего скаффолдов {len(answer2)}, длина самого большого скаффолда - {max(answer2)}, общая длина скаффолдов - {np.sum(answer2)}.')"
   ]
  },
  {
   "cell_type": "code",
   "execution_count": 135,
   "metadata": {},
   "outputs": [
    {
     "name": "stdout",
     "output_type": "stream",
     "text": [
      "N50 для скаффолдов = 572996.\n"
     ]
    }
   ],
   "source": [
    "answer2.sort(reverse=True)\n",
    "i = 0\n",
    "ss = 0\n",
    "while ss < np.sum(answer2) // 2:\n",
    "    ss += answer2[i]\n",
    "    i += 1\n",
    "print(f'N50 для скаффолдов = {answer2[i]}.')"
   ]
  },
  {
   "cell_type": "code",
   "execution_count": 158,
   "metadata": {},
   "outputs": [
    {
     "data": {
      "text/plain": [
       "44261"
      ]
     },
     "execution_count": 158,
     "metadata": {},
     "output_type": "execute_result"
    }
   ],
   "source": [
    "s = [i.split('\\n')[:-1] for i in ''.join(open('/Users/Даниил/Desktop/Poil_scaffold.fa').readlines()).split('>')[1:]]\n",
    "scaff = max([(''.join(i)) for i in [s[c][1:] for c in range(len(s))]], key=len) #самый длинный скаффолд\n",
    "scaff.count('N')"
   ]
  },
  {
   "cell_type": "code",
   "execution_count": 159,
   "metadata": {},
   "outputs": [
    {
     "name": "stdout",
     "output_type": "stream",
     "text": [
      "1082\n"
     ]
    }
   ],
   "source": [
    "count = 0\n",
    "for i in range(len(scaff)):\n",
    "    if scaff[i] == 'N' and i > 0 and scaff[i-1] != 'N':\n",
    "        count += 1\n",
    "print(count)"
   ]
  },
  {
   "cell_type": "code",
   "execution_count": 160,
   "metadata": {
    "scrolled": false
   },
   "outputs": [
    {
     "data": {
      "text/plain": [
       "2874"
      ]
     },
     "execution_count": 160,
     "metadata": {},
     "output_type": "execute_result"
    }
   ],
   "source": [
    "s = [i.split('\\n')[:-1] for i in ''.join(open('/Users/Даниил/Desktop/Poil_gapClosed.fa').readlines()).split('>')[1:]]\n",
    "scaff = max([(''.join(i)) for i in [s[c][1:] for c in range(len(s))]], key=len) #самый длинный скаффолд\n",
    "scaff.count('N')"
   ]
  },
  {
   "cell_type": "code",
   "execution_count": 161,
   "metadata": {},
   "outputs": [
    {
     "name": "stdout",
     "output_type": "stream",
     "text": [
      "15\n"
     ]
    }
   ],
   "source": [
    "count = 0\n",
    "for i in range(len(scaff)):\n",
    "    if scaff[i] == 'N' and i > 0 and scaff[i-1] != 'N':\n",
    "        count += 1\n",
    "print(count)"
   ]
  },
  {
   "cell_type": "code",
   "execution_count": null,
   "metadata": {},
   "outputs": [],
   "source": []
  }
 ],
 "metadata": {
  "kernelspec": {
   "display_name": "Python 3",
   "language": "python",
   "name": "python3"
  },
  "language_info": {
   "codemirror_mode": {
    "name": "ipython",
    "version": 3
   },
   "file_extension": ".py",
   "mimetype": "text/x-python",
   "name": "python",
   "nbconvert_exporter": "python",
   "pygments_lexer": "ipython3",
   "version": "3.8.5"
  }
 },
 "nbformat": 4,
 "nbformat_minor": 4
}
